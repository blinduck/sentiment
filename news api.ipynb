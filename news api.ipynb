{
 "cells": [
  {
   "cell_type": "code",
   "execution_count": 24,
   "metadata": {},
   "outputs": [],
   "source": [
    "from newsapi import NewsApiClient\n",
    "\n",
    "# Init\n",
    "newsapi = NewsApiClient(api_key='65d0df2b0ae444fbaf145bb3cd4c481a')\n",
    "\n",
    "# /v2/top-headlines\n",
    "top_headlines = newsapi.get_everything(\n",
    "    q='commodity',\n",
    "    language='en'\n",
    ")"
   ]
  },
  {
   "cell_type": "code",
   "execution_count": 25,
   "metadata": {},
   "outputs": [
    {
     "name": "stdout",
     "output_type": "stream",
     "text": [
      "6179\n"
     ]
    }
   ],
   "source": [
    "print(top_headlines['totalResults'])"
   ]
  },
  {
   "cell_type": "code",
   "execution_count": 26,
   "metadata": {},
   "outputs": [
    {
     "name": "stdout",
     "output_type": "stream",
     "text": [
      "dict_keys(['source', 'author', 'title', 'description', 'url', 'urlToImage', 'publishedAt', 'content'])\n"
     ]
    }
   ],
   "source": [
    "a = top_headlines['articles'][0]\n",
    "print(a.keys())\n"
   ]
  },
  {
   "cell_type": "code",
   "execution_count": 27,
   "metadata": {},
   "outputs": [
    {
     "name": "stdout",
     "output_type": "stream",
     "text": [
      "{'id': 'techcrunch', 'name': 'TechCrunch'} Amazon looked to the past to build the future 2019-02-12T03:00:20Z\n"
     ]
    }
   ],
   "source": [
    "print(a['source'], a['title'], a['publishedAt'])"
   ]
  },
  {
   "cell_type": "code",
   "execution_count": 28,
   "metadata": {},
   "outputs": [
    {
     "name": "stdout",
     "output_type": "stream",
     "text": [
      "Over the last 20 years, smart home gadgets have evolved from fantasy to commodity. Walk into Best Buy and there are dozens of products that take just a few minutes to set up. Its wonderful. Even better, its easy. There are lights and locks and screens from bi… [+6268 chars]\n"
     ]
    }
   ],
   "source": [
    "print(a['content'])"
   ]
  },
  {
   "cell_type": "code",
   "execution_count": null,
   "metadata": {},
   "outputs": [],
   "source": []
  }
 ],
 "metadata": {
  "kernelspec": {
   "display_name": "Python 3",
   "language": "python",
   "name": "python3"
  },
  "language_info": {
   "codemirror_mode": {
    "name": "ipython",
    "version": 3
   },
   "file_extension": ".py",
   "mimetype": "text/x-python",
   "name": "python",
   "nbconvert_exporter": "python",
   "pygments_lexer": "ipython3",
   "version": "3.6.7"
  }
 },
 "nbformat": 4,
 "nbformat_minor": 2
}
