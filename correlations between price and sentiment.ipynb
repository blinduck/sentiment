{
 "cells": [
  {
   "cell_type": "code",
   "execution_count": 46,
   "metadata": {},
   "outputs": [],
   "source": [
    "import pandas as pd\n",
    "import numpy as np\n"
   ]
  },
  {
   "cell_type": "code",
   "execution_count": 47,
   "metadata": {},
   "outputs": [],
   "source": [
    "# df = pd.read_csv('copper_with_daily_sentiment.csv')\n",
    "df = pd.read_csv('cp_price_with_full_article_sentiments.csv')\n",
    "df.Index = df['Index'].astype('datetime64')\n"
   ]
  },
  {
   "cell_type": "code",
   "execution_count": 48,
   "metadata": {},
   "outputs": [],
   "source": [
    "def annotate_dataframe(df):\n",
    "    d_ago_1 = df.iloc[0: -1]\n",
    "    d_ago_1 =  d_ago_1.loc[:, ['LMCADY', 'gs_score_mean']]\n",
    "    d_ago_1.index = d_ago_1.index + 1\n",
    "    \n",
    "    d_ago_2 = df.iloc[0: -2]\n",
    "    d_ago_2 =  d_ago_2.loc[:, ['LMCADY', 'gs_score_mean']]\n",
    "    d_ago_2.index = d_ago_2.index + 2\n",
    "\n",
    "    result = pd.concat([df, d_ago_1, d_ago_2], axis=1)\n",
    "    result.columns = list(df.columns) + ['LMCADY_1', 'gs_score_mean_1', 'LMCADY_2', 'gs_score_mean_2']\n",
    "    result['LMCADY_delta_1'] = result.LMCADY - result.LMCADY_1    \n",
    "    return result\n",
    "\n"
   ]
  },
  {
   "cell_type": "code",
   "execution_count": 49,
   "metadata": {},
   "outputs": [],
   "source": [
    "adf = annotate_dataframe(df)\n",
    "adf.gs_score_mean_1 = adf.gs_score_mean_1 - 1"
   ]
  },
  {
   "cell_type": "code",
   "execution_count": 50,
   "metadata": {},
   "outputs": [
    {
     "data": {
      "text/plain": [
       "0          NaN\n",
       "1    -1.100000\n",
       "2    -1.225691\n",
       "3    -1.000000\n",
       "4    -1.500000\n",
       "5    -1.225691\n",
       "6    -1.225691\n",
       "7    -1.150000\n",
       "8    -1.000000\n",
       "9    -1.225691\n",
       "10   -1.400000\n",
       "Name: gs_score_mean_1, dtype: float64"
      ]
     },
     "execution_count": 50,
     "metadata": {},
     "output_type": "execute_result"
    }
   ],
   "source": [
    "adf.loc[:10, 'gs_score_mean_1']"
   ]
  },
  {
   "cell_type": "code",
   "execution_count": 51,
   "metadata": {},
   "outputs": [
    {
     "name": "stdout",
     "output_type": "stream",
     "text": [
      "-1.0500000014901159 (array([-1.,  0.,  1., nan]), array([1094,    3, 1086,    1]))\n",
      "-1.0000000014901158 (array([-1.,  0.,  1., nan]), array([1094,    3, 1086,    1]))\n",
      "-0.9500000014901158 (array([-1.,  0.,  1., nan]), array([1094,    3, 1086,    1]))\n",
      "-0.9000000014901157 (array([-1.,  0.,  1., nan]), array([1094,    3, 1086,    1]))\n",
      "-0.8500000014901157 (array([-1.,  0.,  1., nan]), array([1094,    3, 1086,    1]))\n",
      "-0.8000000014901156 (array([-1.,  0.,  1., nan]), array([1094,    3, 1086,    1]))\n",
      "-0.7500000014901156 (array([-1.,  0.,  1., nan]), array([1094,    3, 1086,    1]))\n",
      "-0.7000000014901155 (array([-1.,  0.,  1., nan]), array([1094,    3, 1086,    1]))\n",
      "-0.6500000014901155 (array([-1.,  0.,  1., nan]), array([1094,    3, 1086,    1]))\n",
      "-0.6000000014901155 (array([-1.,  0.,  1., nan]), array([1094,    3, 1086,    1]))\n",
      "-0.5500000014901154 (array([-1.,  0.,  1., nan]), array([1093,    3, 1087,    1]))\n",
      "-0.5000000014901154 (array([-1.,  0.,  1., nan]), array([1093,    3, 1087,    1]))\n",
      "-0.4500000014901154 (array([-1.,  0.,  1., nan]), array([1093,    3, 1087,    1]))\n",
      "-0.4000000014901154 (array([-1.,  0.,  1., nan]), array([1090,    3, 1090,    1]))\n",
      "-0.3500000014901154 (array([-1.,  0.,  1., nan]), array([1090,    3, 1090,    1]))\n",
      "-0.3000000014901154 (array([-1.,  0.,  1., nan]), array([1090,    3, 1090,    1]))\n",
      "-0.2500000014901154 (array([-1.,  0.,  1., nan]), array([1092,    3, 1088,    1]))\n",
      "-0.20000000149011543 (array([-1.,  0.,  1., nan]), array([1088,    3, 1092,    1]))\n",
      "-0.15000000149011544 (array([-1.,  0.,  1., nan]), array([1086,    3, 1094,    1]))\n",
      "-0.10000000149011544 (array([-1.,  0.,  1., nan]), array([1073,    3, 1107,    1]))\n",
      "-0.05000000149011544 (array([-1.,  0.,  1., nan]), array([1077,    3, 1103,    1]))\n",
      "-1.490115433822048e-09 (array([-1.,  0.,  1., nan]), array([1083,    3, 1097,    1]))\n",
      "0.04999999850988457 (array([-1.,  0.,  1., nan]), array([1093,    3, 1087,    1]))\n",
      "0.09999999850988457 (array([-1.,  0.,  1., nan]), array([1093,    3, 1087,    1]))\n",
      "0.14999999850988457 (array([-1.,  0.,  1., nan]), array([1119,    3, 1061,    1]))\n",
      "0.1999999985098846 (array([-1.,  0.,  1., nan]), array([1118,    3, 1062,    1]))\n",
      "0.24999999850988458 (array([-1.,  0.,  1., nan]), array([1094,    3, 1086,    1]))\n",
      "0.29999999850988457 (array([-1.,  0.,  1., nan]), array([1086,    3, 1094,    1]))\n",
      "0.34999999850988456 (array([-1.,  0.,  1., nan]), array([1081,    3, 1099,    1]))\n",
      "0.39999999850988455 (array([-1.,  0.,  1., nan]), array([1074,    3, 1106,    1]))\n",
      "0.44999999850988454 (array([-1.,  0.,  1., nan]), array([1075,    3, 1105,    1]))\n",
      "0.4999999985098845 (array([-1.,  0.,  1., nan]), array([1079,    3, 1101,    1]))\n",
      "0.5499999985098846 (array([-1.,  0.,  1., nan]), array([1082,    3, 1098,    1]))\n",
      "0.5999999985098846 (array([-1.,  0.,  1., nan]), array([1082,    3, 1098,    1]))\n",
      "0.6499999985098847 (array([-1.,  0.,  1., nan]), array([1081,    3, 1099,    1]))\n",
      "0.6999999985098847 (array([-1.,  0.,  1., nan]), array([1081,    3, 1099,    1]))\n",
      "0.7499999985098847 (array([-1.,  0.,  1., nan]), array([1085,    3, 1095,    1]))\n",
      "0.7999999985098848 (array([-1.,  0.,  1., nan]), array([1086,    3, 1094,    1]))\n",
      "0.8499999985098848 (array([-1.,  0.,  1., nan]), array([1086,    3, 1094,    1]))\n",
      "0.8999999985098849 (array([-1.,  0.,  1., nan]), array([1086,    3, 1094,    1]))\n"
     ]
    }
   ],
   "source": [
    "for x in range(40):\n",
    "    adf.gs_score_mean_1 = adf.gs_score_mean_1 + 0.05\n",
    "    adf['correct_1'] = np.sign(adf.LMCADY_delta_1 * adf.gs_score_mean_1)\n",
    "    print(adf.loc[1, 'gs_score_mean_1'], np.unique(adf.correct_1, return_counts=True))\n",
    "\n",
    "# print(adf.loc[:,  ['gs_score_mean_1', 'LMCADY_delta_1']])\n",
    "\n",
    "# def check_two_days(row):?\n",
    "#     if row['gs_score_mean_1'] > 0 and row['gs_score_mean_2'] > 0:\n",
    "#         # two days positive\n",
    "#         if row['LMCADY_delta_1'] > 0:\n",
    "#             row['correct_2'] = 1\n",
    "#         else: \n",
    "#             row['correct_2'] = -1\n",
    "#     elif row['gs_score_mean_1'] < 0 and row['gs_score_mean_2'] < 0:\n",
    "#         # two days negative\n",
    "#         if row['LMCADY_delta_1'] < 0:\n",
    "#             row['correct_2'] = 1\n",
    "#         else: \n",
    "#             row['correct_2'] = -1\n",
    "#     else:\n",
    "#         row['correct_2'] = 0\n",
    "#     return row\n",
    "        \n",
    "# adf = adf.apply(check_two_days, axis=1)\n",
    "\n",
    "# print(np.unique(adf.correct_2, return_counts=True))\n",
    "\n",
    "\n",
    "# adf['gs_score_mean_1_pessimistic'] = adf.gs_score_mean_1 - 0.1\n",
    "# adf['correct_1_pessimistic'] = np.sign(adf.LMCADY_delta_1 * adf.gs_score_mean_1_pessimistic)\n",
    "# print(adf.loc[:, ['gs_score_mean', 'gs_score_mean_1', 'gs_score_mean_2']])\n",
    "# print(np.unique(adf.correct_1_pessimistic, return_counts=True))\n",
    "\n",
    "# print(adf.describe())\n",
    "\n"
   ]
  },
  {
   "cell_type": "code",
   "execution_count": 21,
   "metadata": {},
   "outputs": [
    {
     "name": "stdout",
     "output_type": "stream",
     "text": [
      "[0.         0.11111111 0.22222222 0.33333333 0.44444444 0.55555556\n",
      " 0.66666667 0.77777778 0.88888889 1.        ]\n"
     ]
    }
   ],
   "source": []
  },
  {
   "cell_type": "code",
   "execution_count": 138,
   "metadata": {},
   "outputs": [],
   "source": [
    "# what are the steps?\n",
    "# set yesterday's sentiment. \n",
    "# set price delta, today's price - yesterday's price\n",
    "# check if sentiment and price_delta have same sign.\n",
    "\n",
    "yesterday_gs_score =  ff['gs_score_mean'][:-1]\n",
    "yesterday_price = ff['LMCADY'][:-1]"
   ]
  },
  {
   "cell_type": "code",
   "execution_count": 139,
   "metadata": {},
   "outputs": [
    {
     "name": "stdout",
     "output_type": "stream",
     "text": [
      "       Index  LMCADY  article_count  gs_score_mean  gs_score_std  \\\n",
      "0 2008-05-13  8330.0            0.0      -0.011835      0.355941   \n",
      "1 2008-05-14  8228.0            0.0      -0.011835      0.355941   \n",
      "2 2008-05-15  8418.0            9.0       0.466667      0.339116   \n",
      "3 2008-05-16  8566.0            2.0      -0.250000      0.070711   \n",
      "4 2008-05-19  8433.0            0.0      -0.011835      0.355941   \n",
      "5 2008-05-20  8434.0            0.0      -0.011835      0.355941   \n",
      "6 2008-05-21  8350.0            6.0       0.083333      0.160208   \n",
      "7 2008-05-22  8232.0            0.0      -0.011835      0.355941   \n",
      "8 2008-05-23  8301.0            0.0      -0.011835      0.355941   \n",
      "9 2008-05-27  8327.0            4.0       0.025000      0.377492   \n",
      "\n",
      "   gs_magnitude_mean  gs_magnitude_std  LMCADY_1  gs_score_mean_1  \\\n",
      "0           0.601616          0.438672       NaN              NaN   \n",
      "1           0.601616          0.438672    8330.0        -0.011835   \n",
      "2           0.477778          0.327024    8228.0        -0.011835   \n",
      "3           0.250000          0.070711    8418.0         0.466667   \n",
      "4           0.601616          0.438672    8566.0        -0.250000   \n",
      "5           0.601616          0.438672    8433.0        -0.011835   \n",
      "6           0.666667          0.467618    8434.0        -0.011835   \n",
      "7           0.601616          0.438672    8350.0         0.083333   \n",
      "8           0.601616          0.438672    8232.0        -0.011835   \n",
      "9           0.950000          0.251661    8301.0        -0.011835   \n",
      "\n",
      "   LMCADY_delta  \n",
      "0           NaN  \n",
      "1        -102.0  \n",
      "2         190.0  \n",
      "3         148.0  \n",
      "4        -133.0  \n",
      "5           1.0  \n",
      "6         -84.0  \n",
      "7        -118.0  \n",
      "8          69.0  \n",
      "9          26.0  \n"
     ]
    }
   ],
   "source": [
    "# print(ff.LMCADY)\n",
    "\n",
    "tt = ff.iloc[0: -1]\n",
    "tt =  tt.loc[:, ['LMCADY', 'gs_score_mean']]\n",
    "\n",
    "\n",
    "tt.index = tt.index + 1\n",
    "# print(tt)\n",
    "\n",
    "result = pd.concat([ff, tt], axis=1)\n",
    "\n",
    "result.columns = list(ff.columns) + ['LMCADY_1', 'gs_score_mean_1']\n",
    "result['LMCADY_delta'] = result.LMCADY - result.LMCADY_1\n",
    "print(result)\n"
   ]
  },
  {
   "cell_type": "code",
   "execution_count": 142,
   "metadata": {},
   "outputs": [
    {
     "name": "stdout",
     "output_type": "stream",
     "text": [
      "   LMCADY  LMCADY_1  LMCADY_delta  gs_score_mean_1\n",
      "0  8330.0       NaN           NaN              NaN\n",
      "1  8228.0    8330.0        -102.0        -0.011835\n",
      "2  8418.0    8228.0         190.0        -0.011835\n",
      "3  8566.0    8418.0         148.0         0.466667\n",
      "4  8433.0    8566.0        -133.0        -0.250000\n",
      "5  8434.0    8433.0           1.0        -0.011835\n",
      "6  8350.0    8434.0         -84.0        -0.011835\n",
      "7  8232.0    8350.0        -118.0         0.083333\n",
      "8  8301.0    8232.0          69.0        -0.011835\n",
      "9  8327.0    8301.0          26.0        -0.011835\n",
      "   gs_score_mean  gs_score_mean_1\n",
      "0      -0.011835              NaN\n",
      "1      -0.011835        -0.011835\n",
      "2       0.466667        -0.011835\n",
      "3      -0.250000         0.466667\n",
      "4      -0.011835        -0.250000\n",
      "5      -0.011835        -0.011835\n",
      "6       0.083333        -0.011835\n",
      "7      -0.011835         0.083333\n",
      "8      -0.011835        -0.011835\n",
      "9       0.025000        -0.011835\n"
     ]
    }
   ],
   "source": [
    "\n",
    "\n",
    "print(result.loc[:, ['LMCADY', 'LMCADY_1', 'LMCADY_delta', 'gs_score_mean_1']])\n",
    "print(result.loc[:, ['gs_score_mean', 'gs_score_mean_1']])\n",
    "# print(result.loc)result = pd.concat([ff, tt])\n",
    "\n",
    "\n"
   ]
  },
  {
   "cell_type": "code",
   "execution_count": 151,
   "metadata": {},
   "outputs": [],
   "source": []
  },
  {
   "cell_type": "code",
   "execution_count": 156,
   "metadata": {},
   "outputs": [
    {
     "name": "stdout",
     "output_type": "stream",
     "text": [
      "       Index  LMCADY  article_count  gs_score_mean  gs_score_std  \\\n",
      "0 2008-05-13  8330.0            0.0      -0.011835      0.355941   \n",
      "1 2008-05-14  8228.0            0.0      -0.011835      0.355941   \n",
      "2 2008-05-15  8418.0            9.0       0.466667      0.339116   \n",
      "3 2008-05-16  8566.0            2.0      -0.250000      0.070711   \n",
      "4 2008-05-19  8433.0            0.0      -0.011835      0.355941   \n",
      "5 2008-05-20  8434.0            0.0      -0.011835      0.355941   \n",
      "6 2008-05-21  8350.0            6.0       0.083333      0.160208   \n",
      "7 2008-05-22  8232.0            0.0      -0.011835      0.355941   \n",
      "8 2008-05-23  8301.0            0.0      -0.011835      0.355941   \n",
      "9 2008-05-27  8327.0            4.0       0.025000      0.377492   \n",
      "\n",
      "   gs_magnitude_mean  gs_magnitude_std  LMCADY_1  gs_score_mean_1  \\\n",
      "0           0.601616          0.438672       NaN              NaN   \n",
      "1           0.601616          0.438672    8330.0        -0.011835   \n",
      "2           0.477778          0.327024    8228.0        -0.011835   \n",
      "3           0.250000          0.070711    8418.0         0.466667   \n",
      "4           0.601616          0.438672    8566.0        -0.250000   \n",
      "5           0.601616          0.438672    8433.0        -0.011835   \n",
      "6           0.666667          0.467618    8434.0        -0.011835   \n",
      "7           0.601616          0.438672    8350.0         0.083333   \n",
      "8           0.601616          0.438672    8232.0        -0.011835   \n",
      "9           0.950000          0.251661    8301.0        -0.011835   \n",
      "\n",
      "   LMCADY_delta  correct  \n",
      "0           NaN      NaN  \n",
      "1        -102.0      1.0  \n",
      "2         190.0     -1.0  \n",
      "3         148.0      1.0  \n",
      "4        -133.0      1.0  \n",
      "5           1.0     -1.0  \n",
      "6         -84.0      1.0  \n",
      "7        -118.0     -1.0  \n",
      "8          69.0     -1.0  \n",
      "9          26.0     -1.0  \n",
      "(array([-1.,  1., nan]), array([5, 4, 1]))\n"
     ]
    }
   ],
   "source": []
  },
  {
   "cell_type": "code",
   "execution_count": null,
   "metadata": {},
   "outputs": [],
   "source": []
  }
 ],
 "metadata": {
  "kernelspec": {
   "display_name": "Python 3",
   "language": "python",
   "name": "python3"
  },
  "language_info": {
   "codemirror_mode": {
    "name": "ipython",
    "version": 3
   },
   "file_extension": ".py",
   "mimetype": "text/x-python",
   "name": "python",
   "nbconvert_exporter": "python",
   "pygments_lexer": "ipython3",
   "version": "3.6.7"
  }
 },
 "nbformat": 4,
 "nbformat_minor": 2
}
