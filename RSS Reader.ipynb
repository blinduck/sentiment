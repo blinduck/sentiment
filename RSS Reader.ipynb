{
 "cells": [
  {
   "cell_type": "code",
   "execution_count": 1,
   "metadata": {},
   "outputs": [],
   "source": [
    "feed = 'https://seekingalpha.com/sector/financial.xml'\n"
   ]
  },
  {
   "cell_type": "code",
   "execution_count": 2,
   "metadata": {},
   "outputs": [],
   "source": [
    "import feedparser"
   ]
  },
  {
   "cell_type": "code",
   "execution_count": 3,
   "metadata": {},
   "outputs": [],
   "source": [
    "d = feedparser.parse(feed)"
   ]
  },
  {
   "cell_type": "code",
   "execution_count": 16,
   "metadata": {},
   "outputs": [
    {
     "name": "stdout",
     "output_type": "stream",
     "text": [
      "title American Financial Group, Inc. (AFG) CEO Carl Lindner on Q4 2018 Results -EarningsCallTranscript\n",
      "title_detail {'type': 'text/plain', 'language': None, 'base': 'https://seekingalpha.com/sector/financial.xml', 'value': 'American Financial Group, Inc. (AFG) CEO Carl Lindner on Q4 2018 Results -EarningsCallTranscript'}\n",
      "links [{'rel': 'alternate', 'type': 'text/html', 'href': 'https://seekingalpha.com/article/4237363-american-financial-group-inc-afg-ceo-carl-lindner-q4-2018-results-earningscalltranscript?source=feed_sector_financial'}]\n",
      "link https://seekingalpha.com/article/4237363-american-financial-group-inc-afg-ceo-carl-lindner-q4-2018-results-earningscalltranscript?source=feed_sector_financial\n",
      "id 4237363\n",
      "guidislink False\n",
      "published Fri, 01 Feb 2019 01:26:10 -0500\n",
      "published_parsed time.struct_time(tm_year=2019, tm_mon=2, tm_mday=1, tm_hour=6, tm_min=26, tm_sec=10, tm_wday=4, tm_yday=32, tm_isdst=0)\n",
      "tags [{'term': 'AFG', 'scheme': None, 'label': None}, {'term': 'SA Transcripts', 'scheme': None, 'label': None}]\n"
     ]
    }
   ],
   "source": [
    "first = d.entries[0]\n",
    "for key in first.keys():\n",
    "    print(key, first[key])"
   ]
  },
  {
   "cell_type": "code",
   "execution_count": null,
   "metadata": {},
   "outputs": [],
   "source": []
  }
 ],
 "metadata": {
  "kernelspec": {
   "display_name": "Python 3",
   "language": "python",
   "name": "python3"
  },
  "language_info": {
   "codemirror_mode": {
    "name": "ipython",
    "version": 3
   },
   "file_extension": ".py",
   "mimetype": "text/x-python",
   "name": "python",
   "nbconvert_exporter": "python",
   "pygments_lexer": "ipython3",
   "version": "3.6.7"
  }
 },
 "nbformat": 4,
 "nbformat_minor": 2
}
