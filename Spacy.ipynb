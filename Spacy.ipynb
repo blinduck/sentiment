{
 "cells": [
  {
   "cell_type": "code",
   "execution_count": 6,
   "metadata": {},
   "outputs": [],
   "source": [
    "import spacy\n",
    "import sqlalchemy"
   ]
  },
  {
   "cell_type": "code",
   "execution_count": 7,
   "metadata": {},
   "outputs": [],
   "source": [
    "nlp = spacy.load('en_core_web_sm')"
   ]
  },
  {
   "cell_type": "code",
   "execution_count": 8,
   "metadata": {},
   "outputs": [],
   "source": [
    "doc = nlp(\"Price of copper expected to increase in 2019\")"
   ]
  },
  {
   "cell_type": "code",
   "execution_count": 9,
   "metadata": {},
   "outputs": [
    {
     "name": "stdout",
     "output_type": "stream",
     "text": [
      "Price NOUN nsubj\n",
      "of ADP prep\n",
      "copper NOUN pobj\n",
      "expected VERB ROOT\n",
      "to PART aux\n",
      "increase VERB xcomp\n",
      "in ADP prep\n",
      "2019 NUM pobj\n"
     ]
    }
   ],
   "source": [
    "for token in doc:\n",
    "    print(token.text, token.pos_, token.dep_)"
   ]
  },
  {
   "cell_type": "code",
   "execution_count": 12,
   "metadata": {},
   "outputs": [
    {
     "name": "stdout",
     "output_type": "stream",
     "text": [
      "Apple 0 5 ORG\n",
      "U.K. 27 31 GPE\n",
      "$1 billion 44 54 MONEY\n"
     ]
    }
   ],
   "source": [
    "for ent in doc.ents:\n",
    "    print(ent.text, ent.start_char, ent.end_char, ent.label_)"
   ]
  },
  {
   "cell_type": "code",
   "execution_count": 13,
   "metadata": {},
   "outputs": [
    {
     "data": {
      "text/plain": [
       "[{'word': 'looking',\n",
       "  'lemma': 'look',\n",
       "  'NE': '',\n",
       "  'POS_fine': 'VBG',\n",
       "  'POS_coarse': 'VERB',\n",
       "  'arc': 'ROOT',\n",
       "  'modifiers': [{'word': 'Apple',\n",
       "    'lemma': 'Apple',\n",
       "    'NE': 'ORG',\n",
       "    'POS_fine': 'NNP',\n",
       "    'POS_coarse': 'PROPN',\n",
       "    'arc': 'nsubj',\n",
       "    'modifiers': []},\n",
       "   {'word': 'is',\n",
       "    'lemma': 'be',\n",
       "    'NE': '',\n",
       "    'POS_fine': 'VBZ',\n",
       "    'POS_coarse': 'VERB',\n",
       "    'arc': 'aux',\n",
       "    'modifiers': []},\n",
       "   {'word': 'at',\n",
       "    'lemma': 'at',\n",
       "    'NE': '',\n",
       "    'POS_fine': 'IN',\n",
       "    'POS_coarse': 'ADP',\n",
       "    'arc': 'prep',\n",
       "    'modifiers': [{'word': 'buying',\n",
       "      'lemma': 'buy',\n",
       "      'NE': '',\n",
       "      'POS_fine': 'VBG',\n",
       "      'POS_coarse': 'VERB',\n",
       "      'arc': 'pcomp',\n",
       "      'modifiers': [{'word': 'startup',\n",
       "        'lemma': 'startup',\n",
       "        'NE': '',\n",
       "        'POS_fine': 'NN',\n",
       "        'POS_coarse': 'NOUN',\n",
       "        'arc': 'dobj',\n",
       "        'modifiers': [{'word': 'U.K.',\n",
       "          'lemma': 'U.K.',\n",
       "          'NE': 'GPE',\n",
       "          'POS_fine': 'NNP',\n",
       "          'POS_coarse': 'PROPN',\n",
       "          'arc': 'compound',\n",
       "          'modifiers': []}]},\n",
       "       {'word': 'for',\n",
       "        'lemma': 'for',\n",
       "        'NE': '',\n",
       "        'POS_fine': 'IN',\n",
       "        'POS_coarse': 'ADP',\n",
       "        'arc': 'prep',\n",
       "        'modifiers': [{'word': '$ 1 billion',\n",
       "          'lemma': '$ 1 billion',\n",
       "          'NE': 'MONEY',\n",
       "          'POS_fine': 'CD',\n",
       "          'POS_coarse': 'NUM',\n",
       "          'arc': 'pobj',\n",
       "          'modifiers': []}]}]}]}]}]"
      ]
     },
     "execution_count": 13,
     "metadata": {},
     "output_type": "execute_result"
    }
   ],
   "source": [
    "doc.print_tree()"
   ]
  },
  {
   "cell_type": "code",
   "execution_count": 1,
   "metadata": {},
   "outputs": [
    {
     "data": {
      "text/plain": [
       "range(0, 3)"
      ]
     },
     "execution_count": 1,
     "metadata": {},
     "output_type": "execute_result"
    }
   ],
   "source": [
    "range(3)"
   ]
  },
  {
   "cell_type": "code",
   "execution_count": 3,
   "metadata": {},
   "outputs": [],
   "source": [
    "import string\n"
   ]
  },
  {
   "cell_type": "code",
   "execution_count": 6,
   "metadata": {},
   "outputs": [],
   "source": [
    "x = list(string.ascii_lowercase)"
   ]
  },
  {
   "cell_type": "code",
   "execution_count": 7,
   "metadata": {},
   "outputs": [
    {
     "name": "stdout",
     "output_type": "stream",
     "text": [
      "['a', 'b', 'c', 'd', 'e', 'f', 'g', 'h', 'i', 'j', 'k', 'l', 'm', 'n', 'o', 'p', 'q', 'r', 's', 't', 'u', 'v', 'w', 'x', 'y', 'z']\n"
     ]
    }
   ],
   "source": [
    "print(x)"
   ]
  },
  {
   "cell_type": "code",
   "execution_count": null,
   "metadata": {},
   "outputs": [],
   "source": []
  }
 ],
 "metadata": {
  "kernelspec": {
   "display_name": "Python 3",
   "language": "python",
   "name": "python3"
  },
  "language_info": {
   "codemirror_mode": {
    "name": "ipython",
    "version": 3
   },
   "file_extension": ".py",
   "mimetype": "text/x-python",
   "name": "python",
   "nbconvert_exporter": "python",
   "pygments_lexer": "ipython3",
   "version": "3.6.7"
  }
 },
 "nbformat": 4,
 "nbformat_minor": 2
}
